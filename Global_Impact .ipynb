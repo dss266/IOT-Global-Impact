{
  "nbformat": 4,
  "nbformat_minor": 0,
  "metadata": {
    "colab": {
      "name": "Global-Impact.ipynb",
      "provenance": [],
      "collapsed_sections": []
    },
    "kernelspec": {
      "name": "python3",
      "display_name": "Python 3"
    },
    "language_info": {
      "name": "python"
    }
  },
  "cells": [
    {
      "cell_type": "code",
      "metadata": {
        "colab": {
          "base_uri": "https://localhost:8080/",
          "height": 35
        },
        "id": "aXFO8e0L4dNK",
        "outputId": "c455cd00-802a-4319-8869-017835f5af40"
      },
      "source": [
        "#Bibliotecas\n",
        "import pandas as pd\n",
        "from sklearn.neighbors import KNeighborsClassifier\n",
        "from sklearn.preprocessing import MinMaxScaler\n",
        "from sklearn.model_selection import train_test_split,KFold,cross_val_score\n",
        "from sklearn.metrics import accuracy_score,classification_report\n",
        "\n",
        "#Aleatoriedade\n",
        "seed = 123\n",
        "\n",
        "#Ajuste de linhas/colunas Pandas\n",
        "pd.options.display.max_columns=None\n",
        "\n",
        "#Ocultar Warnings\n",
        "import warnings\n",
        "warnings.filterwarnings('ignore')\n",
        "\n",
        "#Versão biblioteca\n",
        "\n",
        "pd.__version__"
      ],
      "execution_count": 7,
      "outputs": [
        {
          "output_type": "execute_result",
          "data": {
            "application/vnd.google.colaboratory.intrinsic+json": {
              "type": "string"
            },
            "text/plain": [
              "'1.1.5'"
            ]
          },
          "metadata": {},
          "execution_count": 7
        }
      ]
    },
    {
      "cell_type": "code",
      "metadata": {
        "colab": {
          "base_uri": "https://localhost:8080/",
          "height": 206
        },
        "id": "8qND-Kny4phs",
        "outputId": "53cf4c46-2530-473d-f400-c61893795d19"
      },
      "source": [
        "#Primeiro Contato com o dataset\n",
        "dados = pd.read_csv(\"/content/sample_data/dataset_tomate.csv\")\n",
        "\n",
        "dados.head()\n"
      ],
      "execution_count": 8,
      "outputs": [
        {
          "output_type": "execute_result",
          "data": {
            "text/html": [
              "<div>\n",
              "<style scoped>\n",
              "    .dataframe tbody tr th:only-of-type {\n",
              "        vertical-align: middle;\n",
              "    }\n",
              "\n",
              "    .dataframe tbody tr th {\n",
              "        vertical-align: top;\n",
              "    }\n",
              "\n",
              "    .dataframe thead th {\n",
              "        text-align: right;\n",
              "    }\n",
              "</style>\n",
              "<table border=\"1\" class=\"dataframe\">\n",
              "  <thead>\n",
              "    <tr style=\"text-align: right;\">\n",
              "      <th></th>\n",
              "      <th>id</th>\n",
              "      <th>trat</th>\n",
              "      <th>NDVI_d28</th>\n",
              "      <th>SAVI_d28</th>\n",
              "      <th>GNDVI_d28</th>\n",
              "      <th>MCARI1_d28</th>\n",
              "      <th>SR_d28</th>\n",
              "      <th>NDVI_d01</th>\n",
              "      <th>SAVI_d01</th>\n",
              "      <th>GNDVI_d01</th>\n",
              "      <th>MCARI1_d01</th>\n",
              "      <th>SR_d01</th>\n",
              "      <th>NDVI_d04</th>\n",
              "      <th>SAVI_d04</th>\n",
              "      <th>GNDVI_d04</th>\n",
              "      <th>MCARI1_d04</th>\n",
              "      <th>SR_d04</th>\n",
              "      <th>NDVI_d08</th>\n",
              "      <th>SAVI_d08</th>\n",
              "      <th>GNDVI_d08</th>\n",
              "      <th>MCARI1_d08</th>\n",
              "      <th>SR_d08</th>\n",
              "      <th>Classe</th>\n",
              "    </tr>\n",
              "  </thead>\n",
              "  <tbody>\n",
              "    <tr>\n",
              "      <th>0</th>\n",
              "      <td>1</td>\n",
              "      <td>102</td>\n",
              "      <td>0.798284</td>\n",
              "      <td>1.197380</td>\n",
              "      <td>0.692652</td>\n",
              "      <td>16710.29721</td>\n",
              "      <td>9.728142</td>\n",
              "      <td>0.729767</td>\n",
              "      <td>1.094620</td>\n",
              "      <td>0.698726</td>\n",
              "      <td>21499.94698</td>\n",
              "      <td>6.907142</td>\n",
              "      <td>0.713179</td>\n",
              "      <td>1.069718</td>\n",
              "      <td>0.662425</td>\n",
              "      <td>13090.11459</td>\n",
              "      <td>6.216968</td>\n",
              "      <td>0.684125</td>\n",
              "      <td>1.026146</td>\n",
              "      <td>0.636865</td>\n",
              "      <td>13352.81776</td>\n",
              "      <td>5.421333</td>\n",
              "      <td>1</td>\n",
              "    </tr>\n",
              "    <tr>\n",
              "      <th>1</th>\n",
              "      <td>2</td>\n",
              "      <td>11</td>\n",
              "      <td>0.806955</td>\n",
              "      <td>1.210392</td>\n",
              "      <td>0.705323</td>\n",
              "      <td>19513.85630</td>\n",
              "      <td>10.557411</td>\n",
              "      <td>0.774359</td>\n",
              "      <td>1.161514</td>\n",
              "      <td>0.717367</td>\n",
              "      <td>30041.91766</td>\n",
              "      <td>8.531835</td>\n",
              "      <td>0.777758</td>\n",
              "      <td>1.166604</td>\n",
              "      <td>0.680269</td>\n",
              "      <td>22731.09954</td>\n",
              "      <td>8.380453</td>\n",
              "      <td>0.725521</td>\n",
              "      <td>1.088240</td>\n",
              "      <td>0.669113</td>\n",
              "      <td>16190.82038</td>\n",
              "      <td>6.491860</td>\n",
              "      <td>0</td>\n",
              "    </tr>\n",
              "    <tr>\n",
              "      <th>2</th>\n",
              "      <td>3</td>\n",
              "      <td>103</td>\n",
              "      <td>0.825104</td>\n",
              "      <td>1.237610</td>\n",
              "      <td>0.708468</td>\n",
              "      <td>18074.06986</td>\n",
              "      <td>11.141408</td>\n",
              "      <td>0.786941</td>\n",
              "      <td>1.180385</td>\n",
              "      <td>0.730471</td>\n",
              "      <td>29312.17626</td>\n",
              "      <td>8.982521</td>\n",
              "      <td>0.730708</td>\n",
              "      <td>1.096008</td>\n",
              "      <td>0.680238</td>\n",
              "      <td>12330.21702</td>\n",
              "      <td>6.670915</td>\n",
              "      <td>0.728171</td>\n",
              "      <td>1.092214</td>\n",
              "      <td>0.655206</td>\n",
              "      <td>15313.16198</td>\n",
              "      <td>6.551268</td>\n",
              "      <td>1</td>\n",
              "    </tr>\n",
              "    <tr>\n",
              "      <th>3</th>\n",
              "      <td>4</td>\n",
              "      <td>112</td>\n",
              "      <td>0.788884</td>\n",
              "      <td>1.183279</td>\n",
              "      <td>0.664787</td>\n",
              "      <td>16226.23017</td>\n",
              "      <td>8.990752</td>\n",
              "      <td>0.743874</td>\n",
              "      <td>1.115782</td>\n",
              "      <td>0.690141</td>\n",
              "      <td>22610.47885</td>\n",
              "      <td>7.109600</td>\n",
              "      <td>0.707999</td>\n",
              "      <td>1.061948</td>\n",
              "      <td>0.644786</td>\n",
              "      <td>12085.07787</td>\n",
              "      <td>6.017714</td>\n",
              "      <td>0.728161</td>\n",
              "      <td>1.092201</td>\n",
              "      <td>0.640739</td>\n",
              "      <td>16562.17418</td>\n",
              "      <td>6.608121</td>\n",
              "      <td>1</td>\n",
              "    </tr>\n",
              "    <tr>\n",
              "      <th>4</th>\n",
              "      <td>5</td>\n",
              "      <td>114</td>\n",
              "      <td>0.764986</td>\n",
              "      <td>1.147432</td>\n",
              "      <td>0.673490</td>\n",
              "      <td>14920.80711</td>\n",
              "      <td>8.269806</td>\n",
              "      <td>0.715948</td>\n",
              "      <td>1.073894</td>\n",
              "      <td>0.695619</td>\n",
              "      <td>22002.08151</td>\n",
              "      <td>6.447621</td>\n",
              "      <td>0.688155</td>\n",
              "      <td>1.032176</td>\n",
              "      <td>0.660206</td>\n",
              "      <td>10053.17885</td>\n",
              "      <td>5.571702</td>\n",
              "      <td>0.694320</td>\n",
              "      <td>1.041437</td>\n",
              "      <td>0.642373</td>\n",
              "      <td>13760.95583</td>\n",
              "      <td>5.665567</td>\n",
              "      <td>1</td>\n",
              "    </tr>\n",
              "  </tbody>\n",
              "</table>\n",
              "</div>"
            ],
            "text/plain": [
              "   id  trat  NDVI_d28  SAVI_d28  GNDVI_d28   MCARI1_d28     SR_d28  NDVI_d01  \\\n",
              "0   1   102  0.798284  1.197380   0.692652  16710.29721   9.728142  0.729767   \n",
              "1   2    11  0.806955  1.210392   0.705323  19513.85630  10.557411  0.774359   \n",
              "2   3   103  0.825104  1.237610   0.708468  18074.06986  11.141408  0.786941   \n",
              "3   4   112  0.788884  1.183279   0.664787  16226.23017   8.990752  0.743874   \n",
              "4   5   114  0.764986  1.147432   0.673490  14920.80711   8.269806  0.715948   \n",
              "\n",
              "   SAVI_d01  GNDVI_d01   MCARI1_d01    SR_d01  NDVI_d04  SAVI_d04  GNDVI_d04  \\\n",
              "0  1.094620   0.698726  21499.94698  6.907142  0.713179  1.069718   0.662425   \n",
              "1  1.161514   0.717367  30041.91766  8.531835  0.777758  1.166604   0.680269   \n",
              "2  1.180385   0.730471  29312.17626  8.982521  0.730708  1.096008   0.680238   \n",
              "3  1.115782   0.690141  22610.47885  7.109600  0.707999  1.061948   0.644786   \n",
              "4  1.073894   0.695619  22002.08151  6.447621  0.688155  1.032176   0.660206   \n",
              "\n",
              "    MCARI1_d04    SR_d04  NDVI_d08  SAVI_d08  GNDVI_d08   MCARI1_d08  \\\n",
              "0  13090.11459  6.216968  0.684125  1.026146   0.636865  13352.81776   \n",
              "1  22731.09954  8.380453  0.725521  1.088240   0.669113  16190.82038   \n",
              "2  12330.21702  6.670915  0.728171  1.092214   0.655206  15313.16198   \n",
              "3  12085.07787  6.017714  0.728161  1.092201   0.640739  16562.17418   \n",
              "4  10053.17885  5.571702  0.694320  1.041437   0.642373  13760.95583   \n",
              "\n",
              "     SR_d08  Classe  \n",
              "0  5.421333       1  \n",
              "1  6.491860       0  \n",
              "2  6.551268       1  \n",
              "3  6.608121       1  \n",
              "4  5.665567       1  "
            ]
          },
          "metadata": {},
          "execution_count": 8
        }
      ]
    },
    {
      "cell_type": "code",
      "metadata": {
        "colab": {
          "base_uri": "https://localhost:8080/"
        },
        "id": "2zNEgQ-H8S5o",
        "outputId": "49b214c9-1e78-41de-9a0b-504a32fc8ac2"
      },
      "source": [
        "#Exclusão de colunas\n",
        "dados.drop(labels=['id'],axis=1,inplace=True)\n",
        "\n",
        "#Quantidade de ocorrencias\n",
        "print(\"QUANTIDADE DE OCORRENCIAS DE TOMATES RESISTENTES(1) OU NÃO RESISTENTES(0) AO FUNGO\")\n",
        "\n",
        "\n",
        "dados.Classe.value_counts()\n"
      ],
      "execution_count": 9,
      "outputs": [
        {
          "output_type": "stream",
          "name": "stdout",
          "text": [
            "QUANTIDADE DE OCORRENCIAS DE TOMATES RESISTENTES(1) OU NÃO RESISTENTES(0) AO FUNGO\n"
          ]
        },
        {
          "output_type": "execute_result",
          "data": {
            "text/plain": [
              "1    91\n",
              "0    41\n",
              "Name: Classe, dtype: int64"
            ]
          },
          "metadata": {},
          "execution_count": 9
        }
      ]
    },
    {
      "cell_type": "code",
      "metadata": {
        "colab": {
          "base_uri": "https://localhost:8080/",
          "height": 206
        },
        "id": "P7k8Cc4jSZDi",
        "outputId": "7225f191-704f-4788-c52f-13d3bb458288"
      },
      "source": [
        "#Normalizando os dados\n",
        "\n",
        "X=dados.iloc[:,1:]\n",
        "y=dados.iloc[:,-1]\n",
        "\n",
        "X_norm = pd.DataFrame(MinMaxScaler(feature_range=(0,1)).fit_transform(X))\n",
        "\n",
        "X_norm.head()"
      ],
      "execution_count": 10,
      "outputs": [
        {
          "output_type": "execute_result",
          "data": {
            "text/html": [
              "<div>\n",
              "<style scoped>\n",
              "    .dataframe tbody tr th:only-of-type {\n",
              "        vertical-align: middle;\n",
              "    }\n",
              "\n",
              "    .dataframe tbody tr th {\n",
              "        vertical-align: top;\n",
              "    }\n",
              "\n",
              "    .dataframe thead th {\n",
              "        text-align: right;\n",
              "    }\n",
              "</style>\n",
              "<table border=\"1\" class=\"dataframe\">\n",
              "  <thead>\n",
              "    <tr style=\"text-align: right;\">\n",
              "      <th></th>\n",
              "      <th>0</th>\n",
              "      <th>1</th>\n",
              "      <th>2</th>\n",
              "      <th>3</th>\n",
              "      <th>4</th>\n",
              "      <th>5</th>\n",
              "      <th>6</th>\n",
              "      <th>7</th>\n",
              "      <th>8</th>\n",
              "      <th>9</th>\n",
              "      <th>10</th>\n",
              "      <th>11</th>\n",
              "      <th>12</th>\n",
              "      <th>13</th>\n",
              "      <th>14</th>\n",
              "      <th>15</th>\n",
              "      <th>16</th>\n",
              "      <th>17</th>\n",
              "      <th>18</th>\n",
              "      <th>19</th>\n",
              "      <th>20</th>\n",
              "    </tr>\n",
              "  </thead>\n",
              "  <tbody>\n",
              "    <tr>\n",
              "      <th>0</th>\n",
              "      <td>0.834531</td>\n",
              "      <td>0.834523</td>\n",
              "      <td>0.834309</td>\n",
              "      <td>0.665776</td>\n",
              "      <td>0.704641</td>\n",
              "      <td>0.558394</td>\n",
              "      <td>0.558370</td>\n",
              "      <td>0.728023</td>\n",
              "      <td>0.182397</td>\n",
              "      <td>0.446168</td>\n",
              "      <td>0.475771</td>\n",
              "      <td>0.475713</td>\n",
              "      <td>0.672413</td>\n",
              "      <td>0.262140</td>\n",
              "      <td>0.365521</td>\n",
              "      <td>0.175348</td>\n",
              "      <td>0.175323</td>\n",
              "      <td>0.372830</td>\n",
              "      <td>0.159900</td>\n",
              "      <td>0.094783</td>\n",
              "      <td>1.0</td>\n",
              "    </tr>\n",
              "    <tr>\n",
              "      <th>1</th>\n",
              "      <td>0.883027</td>\n",
              "      <td>0.883043</td>\n",
              "      <td>0.912197</td>\n",
              "      <td>0.992956</td>\n",
              "      <td>0.822972</td>\n",
              "      <td>0.823747</td>\n",
              "      <td>0.823741</td>\n",
              "      <td>0.855947</td>\n",
              "      <td>0.643688</td>\n",
              "      <td>0.749900</td>\n",
              "      <td>0.913244</td>\n",
              "      <td>0.913257</td>\n",
              "      <td>0.781408</td>\n",
              "      <td>0.952983</td>\n",
              "      <td>0.871357</td>\n",
              "      <td>0.433084</td>\n",
              "      <td>0.433059</td>\n",
              "      <td>0.594257</td>\n",
              "      <td>0.400143</td>\n",
              "      <td>0.290298</td>\n",
              "      <td>0.0</td>\n",
              "    </tr>\n",
              "    <tr>\n",
              "      <th>2</th>\n",
              "      <td>0.984542</td>\n",
              "      <td>0.984539</td>\n",
              "      <td>0.931529</td>\n",
              "      <td>0.824931</td>\n",
              "      <td>0.906304</td>\n",
              "      <td>0.898617</td>\n",
              "      <td>0.898605</td>\n",
              "      <td>0.945877</td>\n",
              "      <td>0.604280</td>\n",
              "      <td>0.834155</td>\n",
              "      <td>0.594514</td>\n",
              "      <td>0.594438</td>\n",
              "      <td>0.781218</td>\n",
              "      <td>0.207688</td>\n",
              "      <td>0.471656</td>\n",
              "      <td>0.449585</td>\n",
              "      <td>0.449557</td>\n",
              "      <td>0.498770</td>\n",
              "      <td>0.325847</td>\n",
              "      <td>0.301148</td>\n",
              "      <td>1.0</td>\n",
              "    </tr>\n",
              "    <tr>\n",
              "      <th>3</th>\n",
              "      <td>0.781951</td>\n",
              "      <td>0.781940</td>\n",
              "      <td>0.663029</td>\n",
              "      <td>0.609285</td>\n",
              "      <td>0.599421</td>\n",
              "      <td>0.642341</td>\n",
              "      <td>0.642321</td>\n",
              "      <td>0.669106</td>\n",
              "      <td>0.242369</td>\n",
              "      <td>0.484017</td>\n",
              "      <td>0.440683</td>\n",
              "      <td>0.440622</td>\n",
              "      <td>0.564671</td>\n",
              "      <td>0.190122</td>\n",
              "      <td>0.318934</td>\n",
              "      <td>0.449521</td>\n",
              "      <td>0.449501</td>\n",
              "      <td>0.399433</td>\n",
              "      <td>0.431579</td>\n",
              "      <td>0.311532</td>\n",
              "      <td>1.0</td>\n",
              "    </tr>\n",
              "    <tr>\n",
              "      <th>4</th>\n",
              "      <td>0.648280</td>\n",
              "      <td>0.648266</td>\n",
              "      <td>0.716522</td>\n",
              "      <td>0.456940</td>\n",
              "      <td>0.496548</td>\n",
              "      <td>0.476164</td>\n",
              "      <td>0.476149</td>\n",
              "      <td>0.706698</td>\n",
              "      <td>0.209514</td>\n",
              "      <td>0.360261</td>\n",
              "      <td>0.306251</td>\n",
              "      <td>0.306168</td>\n",
              "      <td>0.658864</td>\n",
              "      <td>0.044522</td>\n",
              "      <td>0.214654</td>\n",
              "      <td>0.238820</td>\n",
              "      <td>0.238790</td>\n",
              "      <td>0.410649</td>\n",
              "      <td>0.194450</td>\n",
              "      <td>0.139388</td>\n",
              "      <td>1.0</td>\n",
              "    </tr>\n",
              "  </tbody>\n",
              "</table>\n",
              "</div>"
            ],
            "text/plain": [
              "         0         1         2         3         4         5         6   \\\n",
              "0  0.834531  0.834523  0.834309  0.665776  0.704641  0.558394  0.558370   \n",
              "1  0.883027  0.883043  0.912197  0.992956  0.822972  0.823747  0.823741   \n",
              "2  0.984542  0.984539  0.931529  0.824931  0.906304  0.898617  0.898605   \n",
              "3  0.781951  0.781940  0.663029  0.609285  0.599421  0.642341  0.642321   \n",
              "4  0.648280  0.648266  0.716522  0.456940  0.496548  0.476164  0.476149   \n",
              "\n",
              "         7         8         9         10        11        12        13  \\\n",
              "0  0.728023  0.182397  0.446168  0.475771  0.475713  0.672413  0.262140   \n",
              "1  0.855947  0.643688  0.749900  0.913244  0.913257  0.781408  0.952983   \n",
              "2  0.945877  0.604280  0.834155  0.594514  0.594438  0.781218  0.207688   \n",
              "3  0.669106  0.242369  0.484017  0.440683  0.440622  0.564671  0.190122   \n",
              "4  0.706698  0.209514  0.360261  0.306251  0.306168  0.658864  0.044522   \n",
              "\n",
              "         14        15        16        17        18        19   20  \n",
              "0  0.365521  0.175348  0.175323  0.372830  0.159900  0.094783  1.0  \n",
              "1  0.871357  0.433084  0.433059  0.594257  0.400143  0.290298  0.0  \n",
              "2  0.471656  0.449585  0.449557  0.498770  0.325847  0.301148  1.0  \n",
              "3  0.318934  0.449521  0.449501  0.399433  0.431579  0.311532  1.0  \n",
              "4  0.214654  0.238820  0.238790  0.410649  0.194450  0.139388  1.0  "
            ]
          },
          "metadata": {},
          "execution_count": 10
        }
      ]
    },
    {
      "cell_type": "code",
      "metadata": {
        "id": "bYmNmsaj4uJW"
      },
      "source": [
        ""
      ],
      "execution_count": null,
      "outputs": []
    },
    {
      "cell_type": "code",
      "metadata": {
        "id": "0jovEEGMTTXQ"
      },
      "source": [
        "#Avaliando modelo Trian Test Split\n",
        "X_treino,X_teste,y_treino,y_teste=train_test_split(X_norm,y,test_size=0.30,random_state=seed)\n"
      ],
      "execution_count": 11,
      "outputs": []
    },
    {
      "cell_type": "code",
      "metadata": {
        "colab": {
          "base_uri": "https://localhost:8080/"
        },
        "id": "5JbE0qyyXE8-",
        "outputId": "133736f1-d2e3-4b26-ecb3-78f46b834092"
      },
      "source": [
        "print(\"QUANTIDADE TOTAL DE OCORRENCIAS\")\n",
        "dados.Classe.value_counts()"
      ],
      "execution_count": 12,
      "outputs": [
        {
          "output_type": "stream",
          "name": "stdout",
          "text": [
            "QUANTIDADE TOTAL DE OCORRENCIAS\n"
          ]
        },
        {
          "output_type": "execute_result",
          "data": {
            "text/plain": [
              "1    91\n",
              "0    41\n",
              "Name: Classe, dtype: int64"
            ]
          },
          "metadata": {},
          "execution_count": 12
        }
      ]
    },
    {
      "cell_type": "code",
      "metadata": {
        "colab": {
          "base_uri": "https://localhost:8080/"
        },
        "id": "4dMbY5GNXALS",
        "outputId": "9df0c2b3-8ed5-495d-aef9-8ea51d0f1b14"
      },
      "source": [
        "print(\"AMOSTRAS PARA TREINO\")\n",
        "y_treino.value_counts()"
      ],
      "execution_count": 13,
      "outputs": [
        {
          "output_type": "stream",
          "name": "stdout",
          "text": [
            "AMOSTRAS PARA TREINO\n"
          ]
        },
        {
          "output_type": "execute_result",
          "data": {
            "text/plain": [
              "1    61\n",
              "0    31\n",
              "Name: Classe, dtype: int64"
            ]
          },
          "metadata": {},
          "execution_count": 13
        }
      ]
    },
    {
      "cell_type": "code",
      "metadata": {
        "colab": {
          "base_uri": "https://localhost:8080/"
        },
        "id": "LiFV7PMlXDx4",
        "outputId": "c8ca62ee-e51f-442c-fcbc-753ef9484c02"
      },
      "source": [
        "print(\"AMOSTRAS DE TESTE\")\n",
        "y_teste.value_counts()"
      ],
      "execution_count": 14,
      "outputs": [
        {
          "output_type": "stream",
          "name": "stdout",
          "text": [
            "AMOSTRAS DE TESTE\n"
          ]
        },
        {
          "output_type": "execute_result",
          "data": {
            "text/plain": [
              "1    30\n",
              "0    10\n",
              "Name: Classe, dtype: int64"
            ]
          },
          "metadata": {},
          "execution_count": 14
        }
      ]
    },
    {
      "cell_type": "code",
      "metadata": {
        "colab": {
          "base_uri": "https://localhost:8080/"
        },
        "id": "cRw2g8gIW3uq",
        "outputId": "9eb063b8-4741-4ff8-ce40-9914dec30449"
      },
      "source": [
        "#Criando Modelo\n",
        "modelo_knn_v1= KNeighborsClassifier(n_neighbors=7,n_jobs=2)\n",
        "\n",
        "#Treino do modelo\n",
        "modelo_knn_v1.fit(X_treino,y_treino)"
      ],
      "execution_count": 15,
      "outputs": [
        {
          "output_type": "execute_result",
          "data": {
            "text/plain": [
              "KNeighborsClassifier(n_jobs=2, n_neighbors=7)"
            ]
          },
          "metadata": {},
          "execution_count": 15
        }
      ]
    },
    {
      "cell_type": "code",
      "metadata": {
        "colab": {
          "base_uri": "https://localhost:8080/"
        },
        "id": "fQW07CQ2Vflp",
        "outputId": "d736c60d-bdce-4732-d8cc-2a9eee2d45fe"
      },
      "source": [
        "#Realizando as previsoes\n",
        "previsao = modelo_knn_v1.predict(X_teste)\n",
        "\n",
        "#Mediçao pela acuracia\n",
        "print('Acurácia: {:.3f}'.format(accuracy_score(y_teste,previsao)))\n",
        "\n",
        "#Mediçao pelo Classification Report\n",
        "print('\\nClassification Report:\\n',classification_report(y_teste,previsao))"
      ],
      "execution_count": 16,
      "outputs": [
        {
          "output_type": "stream",
          "name": "stdout",
          "text": [
            "Acurácia: 0.975\n",
            "\n",
            "Classification Report:\n",
            "               precision    recall  f1-score   support\n",
            "\n",
            "           0       0.91      1.00      0.95        10\n",
            "           1       1.00      0.97      0.98        30\n",
            "\n",
            "    accuracy                           0.97        40\n",
            "   macro avg       0.95      0.98      0.97        40\n",
            "weighted avg       0.98      0.97      0.98        40\n",
            "\n"
          ]
        }
      ]
    },
    {
      "cell_type": "code",
      "metadata": {
        "id": "dju8BLSjZUHf"
      },
      "source": [
        "#APERFEIÇOAMENTO\n",
        "cv_scores=[]\n",
        "\n",
        "valores_k=[]\n",
        "\n",
        "kfold= KFold(n_splits=10,shuffle=True,random_state=seed)\n",
        "\n",
        "for k in range(1, 20, 2):\n",
        "  modelo = KNeighborsClassifier(n_neighbors=k,n_jobs=2)\n",
        "  scores = cross_val_score(modelo,X_norm,y,cv = kfold,scoring= 'accuracy')\n",
        "\n",
        "  cv_scores.append(scores.mean())\n",
        "  valores_k.append(k)"
      ],
      "execution_count": 17,
      "outputs": []
    },
    {
      "cell_type": "code",
      "metadata": {
        "colab": {
          "base_uri": "https://localhost:8080/",
          "height": 224
        },
        "id": "XjpMwlOtbDAw",
        "outputId": "2f95d15a-8f1c-4c07-87c2-a0f8d4745e57"
      },
      "source": [
        "print(\"TOP 5 MELHORES 'Ks'\")\n",
        "pd.DataFrame(data=cv_scores,index=valores_k,columns=['ACURACIA']).sort_values(by = 'ACURACIA',ascending = False).head(5)"
      ],
      "execution_count": 18,
      "outputs": [
        {
          "output_type": "stream",
          "name": "stdout",
          "text": [
            "TOP 5 MELHORES 'Ks'\n"
          ]
        },
        {
          "output_type": "execute_result",
          "data": {
            "text/html": [
              "<div>\n",
              "<style scoped>\n",
              "    .dataframe tbody tr th:only-of-type {\n",
              "        vertical-align: middle;\n",
              "    }\n",
              "\n",
              "    .dataframe tbody tr th {\n",
              "        vertical-align: top;\n",
              "    }\n",
              "\n",
              "    .dataframe thead th {\n",
              "        text-align: right;\n",
              "    }\n",
              "</style>\n",
              "<table border=\"1\" class=\"dataframe\">\n",
              "  <thead>\n",
              "    <tr style=\"text-align: right;\">\n",
              "      <th></th>\n",
              "      <th>ACURACIA</th>\n",
              "    </tr>\n",
              "  </thead>\n",
              "  <tbody>\n",
              "    <tr>\n",
              "      <th>19</th>\n",
              "      <td>1.000000</td>\n",
              "    </tr>\n",
              "    <tr>\n",
              "      <th>1</th>\n",
              "      <td>0.992308</td>\n",
              "    </tr>\n",
              "    <tr>\n",
              "      <th>3</th>\n",
              "      <td>0.992308</td>\n",
              "    </tr>\n",
              "    <tr>\n",
              "      <th>5</th>\n",
              "      <td>0.992308</td>\n",
              "    </tr>\n",
              "    <tr>\n",
              "      <th>7</th>\n",
              "      <td>0.992308</td>\n",
              "    </tr>\n",
              "  </tbody>\n",
              "</table>\n",
              "</div>"
            ],
            "text/plain": [
              "    ACURACIA\n",
              "19  1.000000\n",
              "1   0.992308\n",
              "3   0.992308\n",
              "5   0.992308\n",
              "7   0.992308"
            ]
          },
          "metadata": {},
          "execution_count": 18
        }
      ]
    }
  ]
}